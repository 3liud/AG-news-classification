{
 "cells": [
  {
   "cell_type": "markdown",
   "metadata": {},
   "source": [
    "## AG NEWs classification\n",
    "This classification problem aims at classifyign news articles- titles and decription, into 4 categories namely:\n",
    "- 1 - World\n",
    "- 2- Sports\n",
    "- 3- Business\n",
    "- 4 - Sci/Tech\n",
    "---\n",
    "classification will use bidirectional LTSM."
   ]
  },
  {
   "cell_type": "code",
   "execution_count": 52,
   "metadata": {},
   "outputs": [],
   "source": [
    "# Importing libraries\n",
    "\n",
    "import pandas as pd\n",
    "import numpy as np\n",
    "import tensorflow as tf\n",
    "import re\n",
    "import string\n",
    "\n",
    "from nltk.corpus import stopwords\n",
    "from nltk.tokenize import word_tokenize\n",
    "from gensim.models import Word2Vec\n",
    "from tensorflow.keras.models import Sequential\n",
    "from tensorflow.keras.utils import to_categorical\n",
    "from keras.preprocessing.sequence import pad_sequences\n",
    "from keras.preprocessing.text import Tokenizer\n",
    "from sklearn import preprocessing\n",
    "from sklearn.model_selection import train_test_split\n",
    "from tensorflow.keras.layers import Conv1D, MaxPool1D, Dropout, Dense, GlobalMaxPool1D, Embedding, Activation"
   ]
  },
  {
   "cell_type": "code",
   "execution_count": 29,
   "metadata": {
    "scrolled": true
   },
   "outputs": [],
   "source": [
    "# Loading the data\n",
    "col_names=[\"class\", \"Title\", \"Description\"]\n",
    "\n",
    "df_train = pd.read_csv('data/train.csv', names=col_names)\n",
    "df_test = pd.read_csv('data/test.csv', names=col_names)"
   ]
  },
  {
   "cell_type": "code",
   "execution_count": 30,
   "metadata": {},
   "outputs": [
    {
     "data": {
      "text/html": [
       "<div>\n",
       "<style scoped>\n",
       "    .dataframe tbody tr th:only-of-type {\n",
       "        vertical-align: middle;\n",
       "    }\n",
       "\n",
       "    .dataframe tbody tr th {\n",
       "        vertical-align: top;\n",
       "    }\n",
       "\n",
       "    .dataframe thead th {\n",
       "        text-align: right;\n",
       "    }\n",
       "</style>\n",
       "<table border=\"1\" class=\"dataframe\">\n",
       "  <thead>\n",
       "    <tr style=\"text-align: right;\">\n",
       "      <th></th>\n",
       "      <th>class</th>\n",
       "      <th>Title</th>\n",
       "      <th>Description</th>\n",
       "    </tr>\n",
       "  </thead>\n",
       "  <tbody>\n",
       "    <tr>\n",
       "      <th>0</th>\n",
       "      <td>3</td>\n",
       "      <td>Wall St. Bears Claw Back Into the Black (Reuters)</td>\n",
       "      <td>Reuters - Short-sellers, Wall Street's dwindli...</td>\n",
       "    </tr>\n",
       "    <tr>\n",
       "      <th>1</th>\n",
       "      <td>3</td>\n",
       "      <td>Carlyle Looks Toward Commercial Aerospace (Reu...</td>\n",
       "      <td>Reuters - Private investment firm Carlyle Grou...</td>\n",
       "    </tr>\n",
       "    <tr>\n",
       "      <th>2</th>\n",
       "      <td>3</td>\n",
       "      <td>Oil and Economy Cloud Stocks' Outlook (Reuters)</td>\n",
       "      <td>Reuters - Soaring crude prices plus worries\\ab...</td>\n",
       "    </tr>\n",
       "    <tr>\n",
       "      <th>3</th>\n",
       "      <td>3</td>\n",
       "      <td>Iraq Halts Oil Exports from Main Southern Pipe...</td>\n",
       "      <td>Reuters - Authorities have halted oil export\\f...</td>\n",
       "    </tr>\n",
       "    <tr>\n",
       "      <th>4</th>\n",
       "      <td>3</td>\n",
       "      <td>Oil prices soar to all-time record, posing new...</td>\n",
       "      <td>AFP - Tearaway world oil prices, toppling reco...</td>\n",
       "    </tr>\n",
       "  </tbody>\n",
       "</table>\n",
       "</div>"
      ],
      "text/plain": [
       "   class                                              Title  \\\n",
       "0      3  Wall St. Bears Claw Back Into the Black (Reuters)   \n",
       "1      3  Carlyle Looks Toward Commercial Aerospace (Reu...   \n",
       "2      3    Oil and Economy Cloud Stocks' Outlook (Reuters)   \n",
       "3      3  Iraq Halts Oil Exports from Main Southern Pipe...   \n",
       "4      3  Oil prices soar to all-time record, posing new...   \n",
       "\n",
       "                                         Description  \n",
       "0  Reuters - Short-sellers, Wall Street's dwindli...  \n",
       "1  Reuters - Private investment firm Carlyle Grou...  \n",
       "2  Reuters - Soaring crude prices plus worries\\ab...  \n",
       "3  Reuters - Authorities have halted oil export\\f...  \n",
       "4  AFP - Tearaway world oil prices, toppling reco...  "
      ]
     },
     "execution_count": 30,
     "metadata": {},
     "output_type": "execute_result"
    }
   ],
   "source": [
    "df_train.head()"
   ]
  },
  {
   "cell_type": "code",
   "execution_count": 31,
   "metadata": {},
   "outputs": [
    {
     "data": {
      "text/html": [
       "<div>\n",
       "<style scoped>\n",
       "    .dataframe tbody tr th:only-of-type {\n",
       "        vertical-align: middle;\n",
       "    }\n",
       "\n",
       "    .dataframe tbody tr th {\n",
       "        vertical-align: top;\n",
       "    }\n",
       "\n",
       "    .dataframe thead th {\n",
       "        text-align: right;\n",
       "    }\n",
       "</style>\n",
       "<table border=\"1\" class=\"dataframe\">\n",
       "  <thead>\n",
       "    <tr style=\"text-align: right;\">\n",
       "      <th></th>\n",
       "      <th>class</th>\n",
       "      <th>Title</th>\n",
       "      <th>Description</th>\n",
       "    </tr>\n",
       "  </thead>\n",
       "  <tbody>\n",
       "    <tr>\n",
       "      <th>0</th>\n",
       "      <td>3</td>\n",
       "      <td>Fears for T N pension after talks</td>\n",
       "      <td>Unions representing workers at Turner   Newall...</td>\n",
       "    </tr>\n",
       "    <tr>\n",
       "      <th>1</th>\n",
       "      <td>4</td>\n",
       "      <td>The Race is On: Second Private Team Sets Launc...</td>\n",
       "      <td>SPACE.com - TORONTO, Canada -- A second\\team o...</td>\n",
       "    </tr>\n",
       "    <tr>\n",
       "      <th>2</th>\n",
       "      <td>4</td>\n",
       "      <td>Ky. Company Wins Grant to Study Peptides (AP)</td>\n",
       "      <td>AP - A company founded by a chemistry research...</td>\n",
       "    </tr>\n",
       "    <tr>\n",
       "      <th>3</th>\n",
       "      <td>4</td>\n",
       "      <td>Prediction Unit Helps Forecast Wildfires (AP)</td>\n",
       "      <td>AP - It's barely dawn when Mike Fitzpatrick st...</td>\n",
       "    </tr>\n",
       "    <tr>\n",
       "      <th>4</th>\n",
       "      <td>4</td>\n",
       "      <td>Calif. Aims to Limit Farm-Related Smog (AP)</td>\n",
       "      <td>AP - Southern California's smog-fighting agenc...</td>\n",
       "    </tr>\n",
       "  </tbody>\n",
       "</table>\n",
       "</div>"
      ],
      "text/plain": [
       "   class                                              Title  \\\n",
       "0      3                  Fears for T N pension after talks   \n",
       "1      4  The Race is On: Second Private Team Sets Launc...   \n",
       "2      4      Ky. Company Wins Grant to Study Peptides (AP)   \n",
       "3      4      Prediction Unit Helps Forecast Wildfires (AP)   \n",
       "4      4        Calif. Aims to Limit Farm-Related Smog (AP)   \n",
       "\n",
       "                                         Description  \n",
       "0  Unions representing workers at Turner   Newall...  \n",
       "1  SPACE.com - TORONTO, Canada -- A second\\team o...  \n",
       "2  AP - A company founded by a chemistry research...  \n",
       "3  AP - It's barely dawn when Mike Fitzpatrick st...  \n",
       "4  AP - Southern California's smog-fighting agenc...  "
      ]
     },
     "execution_count": 31,
     "metadata": {},
     "output_type": "execute_result"
    }
   ],
   "source": [
    "df_test.head()"
   ]
  },
  {
   "cell_type": "code",
   "execution_count": 32,
   "metadata": {},
   "outputs": [],
   "source": [
    "df_train['summary'] = df_train['Title'] + ' ' + df_train['Description']\n",
    "df_test['summary'] = df_test['Title'] + ' ' + df_test['Description']\n",
    "\n",
    "df_train = df_train.drop(columns=['Title', 'Description'])\n",
    "df_test = df_test.drop(columns=['Title', 'Description'])\n",
    "\n",
    "labels = {1:'World News', 2:'Sports News', 3:'Business News', 4:'Science-Technology News'}\n",
    "\n",
    "df_train['label'] = df_train['class'].map(labels)\n",
    "df_test['label'] = df_test['class'].map(labels)"
   ]
  },
  {
   "cell_type": "code",
   "execution_count": 33,
   "metadata": {},
   "outputs": [
    {
     "data": {
      "text/html": [
       "<div>\n",
       "<style scoped>\n",
       "    .dataframe tbody tr th:only-of-type {\n",
       "        vertical-align: middle;\n",
       "    }\n",
       "\n",
       "    .dataframe tbody tr th {\n",
       "        vertical-align: top;\n",
       "    }\n",
       "\n",
       "    .dataframe thead th {\n",
       "        text-align: right;\n",
       "    }\n",
       "</style>\n",
       "<table border=\"1\" class=\"dataframe\">\n",
       "  <thead>\n",
       "    <tr style=\"text-align: right;\">\n",
       "      <th></th>\n",
       "      <th>summary</th>\n",
       "      <th>label</th>\n",
       "    </tr>\n",
       "  </thead>\n",
       "  <tbody>\n",
       "    <tr>\n",
       "      <th>0</th>\n",
       "      <td>Wall St. Bears Claw Back Into the Black (Reute...</td>\n",
       "      <td>Business News</td>\n",
       "    </tr>\n",
       "    <tr>\n",
       "      <th>1</th>\n",
       "      <td>Carlyle Looks Toward Commercial Aerospace (Reu...</td>\n",
       "      <td>Business News</td>\n",
       "    </tr>\n",
       "    <tr>\n",
       "      <th>2</th>\n",
       "      <td>Oil and Economy Cloud Stocks' Outlook (Reuters...</td>\n",
       "      <td>Business News</td>\n",
       "    </tr>\n",
       "    <tr>\n",
       "      <th>3</th>\n",
       "      <td>Iraq Halts Oil Exports from Main Southern Pipe...</td>\n",
       "      <td>Business News</td>\n",
       "    </tr>\n",
       "    <tr>\n",
       "      <th>4</th>\n",
       "      <td>Oil prices soar to all-time record, posing new...</td>\n",
       "      <td>Business News</td>\n",
       "    </tr>\n",
       "  </tbody>\n",
       "</table>\n",
       "</div>"
      ],
      "text/plain": [
       "                                             summary          label\n",
       "0  Wall St. Bears Claw Back Into the Black (Reute...  Business News\n",
       "1  Carlyle Looks Toward Commercial Aerospace (Reu...  Business News\n",
       "2  Oil and Economy Cloud Stocks' Outlook (Reuters...  Business News\n",
       "3  Iraq Halts Oil Exports from Main Southern Pipe...  Business News\n",
       "4  Oil prices soar to all-time record, posing new...  Business News"
      ]
     },
     "execution_count": 33,
     "metadata": {},
     "output_type": "execute_result"
    }
   ],
   "source": [
    "df_train = df_train.drop(columns=['class'])\n",
    "df_test = df_test.drop(columns=['class'])\n",
    "df_train.head()"
   ]
  },
  {
   "cell_type": "code",
   "execution_count": 34,
   "metadata": {},
   "outputs": [],
   "source": [
    "# remove punctuation\n",
    "\n",
    "def remove_punc(text):\n",
    "    text = re.sub('\\[.*?\\]', '', text)\n",
    "    text = re.sub('https?://\\S+|www\\.\\S+', '', text)\n",
    "    text = re.sub('<.*?>+', '', text)\n",
    "    text = re.sub('[%s]' % re.escape(string.punctuation), '', text)\n",
    "    text = re.sub('\\n', '', text)\n",
    "    text = re.sub('\\w*\\d\\w*', '', text)\n",
    "    return text\n",
    "\n",
    "df_train['summary'] = df_train['summary'].apply(lambda x: remove_punc(x))\n",
    "df_test['summary'] = df_test['summary'].apply(lambda x: remove_punc(x))"
   ]
  },
  {
   "cell_type": "code",
   "execution_count": 35,
   "metadata": {},
   "outputs": [
    {
     "data": {
      "text/html": [
       "<div>\n",
       "<style scoped>\n",
       "    .dataframe tbody tr th:only-of-type {\n",
       "        vertical-align: middle;\n",
       "    }\n",
       "\n",
       "    .dataframe tbody tr th {\n",
       "        vertical-align: top;\n",
       "    }\n",
       "\n",
       "    .dataframe thead th {\n",
       "        text-align: right;\n",
       "    }\n",
       "</style>\n",
       "<table border=\"1\" class=\"dataframe\">\n",
       "  <thead>\n",
       "    <tr style=\"text-align: right;\">\n",
       "      <th></th>\n",
       "      <th>summary</th>\n",
       "      <th>label</th>\n",
       "    </tr>\n",
       "  </thead>\n",
       "  <tbody>\n",
       "    <tr>\n",
       "      <th>0</th>\n",
       "      <td>Wall St Bears Claw Back Into the Black Reuters...</td>\n",
       "      <td>Business News</td>\n",
       "    </tr>\n",
       "    <tr>\n",
       "      <th>1</th>\n",
       "      <td>Carlyle Looks Toward Commercial Aerospace Reut...</td>\n",
       "      <td>Business News</td>\n",
       "    </tr>\n",
       "    <tr>\n",
       "      <th>2</th>\n",
       "      <td>Oil and Economy Cloud Stocks Outlook Reuters R...</td>\n",
       "      <td>Business News</td>\n",
       "    </tr>\n",
       "    <tr>\n",
       "      <th>3</th>\n",
       "      <td>Iraq Halts Oil Exports from Main Southern Pipe...</td>\n",
       "      <td>Business News</td>\n",
       "    </tr>\n",
       "    <tr>\n",
       "      <th>4</th>\n",
       "      <td>Oil prices soar to alltime record posing new m...</td>\n",
       "      <td>Business News</td>\n",
       "    </tr>\n",
       "    <tr>\n",
       "      <th>5</th>\n",
       "      <td>Stocks End Up But Near Year Lows Reuters Reute...</td>\n",
       "      <td>Business News</td>\n",
       "    </tr>\n",
       "    <tr>\n",
       "      <th>6</th>\n",
       "      <td>Money Funds Fell in Latest Week AP AP  Assets ...</td>\n",
       "      <td>Business News</td>\n",
       "    </tr>\n",
       "    <tr>\n",
       "      <th>7</th>\n",
       "      <td>Fed minutes show dissent over inflation USATOD...</td>\n",
       "      <td>Business News</td>\n",
       "    </tr>\n",
       "    <tr>\n",
       "      <th>8</th>\n",
       "      <td>Safety Net Forbescom Forbescom  After earning ...</td>\n",
       "      <td>Business News</td>\n",
       "    </tr>\n",
       "    <tr>\n",
       "      <th>9</th>\n",
       "      <td>Wall St Bears Claw Back Into the Black  NEW YO...</td>\n",
       "      <td>Business News</td>\n",
       "    </tr>\n",
       "  </tbody>\n",
       "</table>\n",
       "</div>"
      ],
      "text/plain": [
       "                                             summary          label\n",
       "0  Wall St Bears Claw Back Into the Black Reuters...  Business News\n",
       "1  Carlyle Looks Toward Commercial Aerospace Reut...  Business News\n",
       "2  Oil and Economy Cloud Stocks Outlook Reuters R...  Business News\n",
       "3  Iraq Halts Oil Exports from Main Southern Pipe...  Business News\n",
       "4  Oil prices soar to alltime record posing new m...  Business News\n",
       "5  Stocks End Up But Near Year Lows Reuters Reute...  Business News\n",
       "6  Money Funds Fell in Latest Week AP AP  Assets ...  Business News\n",
       "7  Fed minutes show dissent over inflation USATOD...  Business News\n",
       "8  Safety Net Forbescom Forbescom  After earning ...  Business News\n",
       "9  Wall St Bears Claw Back Into the Black  NEW YO...  Business News"
      ]
     },
     "execution_count": 35,
     "metadata": {},
     "output_type": "execute_result"
    }
   ],
   "source": [
    "df_train.head(10)"
   ]
  },
  {
   "cell_type": "code",
   "execution_count": 36,
   "metadata": {},
   "outputs": [],
   "source": [
    "# data cleaning and remove stopwords\n",
    "\n",
    "def data_cleaner(text):        \n",
    "    lower_case = text.lower()\n",
    "    tokens=word_tokenize(lower_case)\n",
    "    return (\" \".join(tokens)).strip()\n",
    "\n",
    "def remove_stopwords (text):        \n",
    "    list1=[word for word in text.split() if word not in stopwords.words('english')]\n",
    "    return \" \".join(list1)\n",
    "\n",
    "df_train['summary'] = df_train['summary'].apply(lambda x: data_cleaner(x))\n",
    "df_test['summary'] = df_test['summary'].apply(lambda x: data_cleaner(x))\n",
    "\n",
    "df_train['summary'] = df_train['summary'].apply(lambda x: remove_stopwords(x))\n",
    "df_test['summary'] = df_test['summary'].apply(lambda x: remove_stopwords(x))"
   ]
  },
  {
   "cell_type": "code",
   "execution_count": 37,
   "metadata": {},
   "outputs": [],
   "source": [
    "# split the data into train and test data\n",
    "\n",
    "X_train, X_validation, y_train, y_validation = train_test_split(df_train['summary'], df_train['label'],\n",
    "                                                                test_size=0.2, random_state=1)"
   ]
  },
  {
   "cell_type": "code",
   "execution_count": 38,
   "metadata": {},
   "outputs": [
    {
     "name": "stdout",
     "output_type": "stream",
     "text": [
      "[['wall', 'st', 'bears', 'claw', 'back', 'black', 'reuters', 'reuters', 'shortsellers', 'wall', 'streets', 'dwindlingband', 'ultracynics', 'seeing', 'green'], ['carlyle', 'looks', 'toward', 'commercial', 'aerospace', 'reuters', 'reuters', 'private', 'investment', 'firm', 'carlyle', 'groupwhich', 'reputation', 'making', 'welltimed', 'occasionallycontroversial', 'plays', 'defense', 'industry', 'quietly', 'placedits', 'bets', 'another', 'part', 'market']]\n"
     ]
    }
   ],
   "source": [
    "t_d = []\n",
    "for i in df_train['summary']:\n",
    "    t_d.append(i.split())\n",
    "print(t_d[:2])"
   ]
  },
  {
   "cell_type": "code",
   "execution_count": 39,
   "metadata": {},
   "outputs": [
    {
     "name": "stdout",
     "output_type": "stream",
     "text": [
      "Word2Vec(vocab=89749, size=50, alpha=0.025)\n"
     ]
    }
   ],
   "source": [
    "# initiate word2vec model\n",
    "\n",
    "w2v_model = Word2Vec(t_d, size=50, workers=32, min_count=1, window=3)\n",
    "print(w2v_model)"
   ]
  },
  {
   "cell_type": "code",
   "execution_count": 40,
   "metadata": {},
   "outputs": [],
   "source": [
    "# tokenize the data\n",
    "\n",
    "token = Tokenizer(89740)\n",
    "token.fit_on_texts(df_train['summary'])\n",
    "token_text = token.texts_to_sequences(df_train['summary'])\n",
    "token_text = pad_sequences(token_text)"
   ]
  },
  {
   "cell_type": "code",
   "execution_count": 41,
   "metadata": {},
   "outputs": [
    {
     "name": "stdout",
     "output_type": "stream",
     "text": [
      "[[1. 0. 0. 0.]\n",
      " [1. 0. 0. 0.]\n",
      " [1. 0. 0. 0.]\n",
      " [1. 0. 0. 0.]\n",
      " [1. 0. 0. 0.]]\n"
     ]
    }
   ],
   "source": [
    "la = preprocessing.LabelEncoder()\n",
    "y = la.fit_transform(df_train['label'])\n",
    "y = to_categorical(y)\n",
    "print(y[:5])"
   ]
  },
  {
   "cell_type": "code",
   "execution_count": 42,
   "metadata": {},
   "outputs": [],
   "source": [
    "# spilt the data into training and testing data\n",
    "\n",
    "X_train, X_test, y_train, y_test = train_test_split(np.array(token_text), y, test_size=0.2)\n"
   ]
  },
  {
   "cell_type": "code",
   "execution_count": 43,
   "metadata": {},
   "outputs": [
    {
     "name": "stdout",
     "output_type": "stream",
     "text": [
      "Model: \"sequential_1\"\n",
      "_________________________________________________________________\n",
      " Layer (type)                Output Shape              Param #   \n",
      "=================================================================\n",
      " embedding_1 (Embedding)     (None, None, 50)          4487450   \n",
      "                                                                 \n",
      " dropout_5 (Dropout)         (None, None, 50)          0         \n",
      "                                                                 \n",
      " conv1d_3 (Conv1D)           (None, None, 50)          7550      \n",
      "                                                                 \n",
      " max_pooling1d_2 (MaxPooling  (None, None, 50)         0         \n",
      " 1D)                                                             \n",
      "                                                                 \n",
      " dropout_6 (Dropout)         (None, None, 50)          0         \n",
      "                                                                 \n",
      " conv1d_4 (Conv1D)           (None, None, 100)         15100     \n",
      "                                                                 \n",
      " max_pooling1d_3 (MaxPooling  (None, None, 100)        0         \n",
      " 1D)                                                             \n",
      "                                                                 \n",
      " dropout_7 (Dropout)         (None, None, 100)         0         \n",
      "                                                                 \n",
      " conv1d_5 (Conv1D)           (None, None, 200)         60200     \n",
      "                                                                 \n",
      " global_max_pooling1d_1 (Glo  (None, 200)              0         \n",
      " balMaxPooling1D)                                                \n",
      "                                                                 \n",
      " dropout_8 (Dropout)         (None, 200)               0         \n",
      "                                                                 \n",
      " dense_2 (Dense)             (None, 200)               40200     \n",
      "                                                                 \n",
      " activation_2 (Activation)   (None, 200)               0         \n",
      "                                                                 \n",
      " dropout_9 (Dropout)         (None, 200)               0         \n",
      "                                                                 \n",
      " dense_3 (Dense)             (None, 4)                 804       \n",
      "                                                                 \n",
      " activation_3 (Activation)   (None, 4)                 0         \n",
      "                                                                 \n",
      "=================================================================\n",
      "Total params: 4,611,304\n",
      "Trainable params: 4,611,304\n",
      "Non-trainable params: 0\n",
      "_________________________________________________________________\n"
     ]
    }
   ],
   "source": [
    "# build the model\n",
    "\n",
    "keras_model = Sequential()\n",
    "keras_model.add(w2v_model.wv.get_keras_embedding(True))\n",
    "keras_model.add(Dropout(0.2))\n",
    "keras_model.add(Conv1D(50, 3, activation='relu', padding='same', strides=1))\n",
    "keras_model.add(MaxPool1D())\n",
    "keras_model.add(Dropout(0.2))\n",
    "keras_model.add(Conv1D(100, 3, activation='relu', padding='same', strides=1))\n",
    "keras_model.add(MaxPool1D())\n",
    "keras_model.add(Dropout(0.2))\n",
    "keras_model.add(Conv1D(200, 3, activation='relu', padding='same', strides=1))\n",
    "keras_model.add(GlobalMaxPool1D())\n",
    "keras_model.add(Dropout(0.2))\n",
    "keras_model.add(Dense(200))\n",
    "keras_model.add(Activation('relu'))\n",
    "keras_model.add(Dropout(0.2))\n",
    "keras_model.add(Dense(4))\n",
    "keras_model.add(Activation('softmax'))\n",
    "keras_model.compile(loss='categorical_crossentropy', metrics=['acc'], optimizer='adam')\n",
    "keras_model.summary()\n"
   ]
  },
  {
   "cell_type": "code",
   "execution_count": 44,
   "metadata": {},
   "outputs": [
    {
     "name": "stdout",
     "output_type": "stream",
     "text": [
      "Epoch 1/20\n"
     ]
    },
    {
     "name": "stderr",
     "output_type": "stream",
     "text": [
      "2021-12-23 10:23:06.125220: W tensorflow/core/framework/cpu_allocator_impl.cc:82] Allocation of 38400000 exceeds 10% of free system memory.\n"
     ]
    },
    {
     "name": "stdout",
     "output_type": "stream",
     "text": [
      "375/375 [==============================] - 51s 133ms/step - loss: 1.0875 - acc: 0.5067 - val_loss: 0.6066 - val_acc: 0.7755\n",
      "Epoch 2/20\n",
      "375/375 [==============================] - 49s 132ms/step - loss: 0.5658 - acc: 0.7930 - val_loss: 0.4090 - val_acc: 0.8660\n",
      "Epoch 3/20\n",
      "375/375 [==============================] - 49s 130ms/step - loss: 0.4087 - acc: 0.8593 - val_loss: 0.3363 - val_acc: 0.8943\n",
      "Epoch 4/20\n",
      "375/375 [==============================] - 48s 128ms/step - loss: 0.3330 - acc: 0.8881 - val_loss: 0.3154 - val_acc: 0.8982\n",
      "Epoch 5/20\n",
      "375/375 [==============================] - 48s 129ms/step - loss: 0.2846 - acc: 0.9063 - val_loss: 0.3003 - val_acc: 0.9064\n",
      "Epoch 6/20\n",
      "375/375 [==============================] - 48s 129ms/step - loss: 0.2487 - acc: 0.9188 - val_loss: 0.2531 - val_acc: 0.9171\n",
      "Epoch 7/20\n",
      "375/375 [==============================] - 48s 129ms/step - loss: 0.2193 - acc: 0.9285 - val_loss: 0.2539 - val_acc: 0.9159\n",
      "Epoch 8/20\n",
      "375/375 [==============================] - 52s 138ms/step - loss: 0.1928 - acc: 0.9367 - val_loss: 0.2577 - val_acc: 0.9155\n",
      "Epoch 9/20\n",
      "375/375 [==============================] - 53s 142ms/step - loss: 0.1697 - acc: 0.9446 - val_loss: 0.2673 - val_acc: 0.9145\n",
      "Epoch 10/20\n",
      "375/375 [==============================] - 53s 143ms/step - loss: 0.1486 - acc: 0.9509 - val_loss: 0.2724 - val_acc: 0.9144\n",
      "Epoch 11/20\n",
      "375/375 [==============================] - 54s 143ms/step - loss: 0.1355 - acc: 0.9548 - val_loss: 0.2980 - val_acc: 0.9107\n",
      "Epoch 12/20\n",
      "375/375 [==============================] - 54s 143ms/step - loss: 0.1195 - acc: 0.9590 - val_loss: 0.3164 - val_acc: 0.9075\n",
      "Epoch 13/20\n",
      "375/375 [==============================] - 58s 155ms/step - loss: 0.1082 - acc: 0.9626 - val_loss: 0.3041 - val_acc: 0.9101\n",
      "Epoch 14/20\n",
      "375/375 [==============================] - 60s 161ms/step - loss: 0.0997 - acc: 0.9653 - val_loss: 0.3363 - val_acc: 0.9054\n",
      "Epoch 15/20\n",
      "375/375 [==============================] - 57s 153ms/step - loss: 0.0917 - acc: 0.9681 - val_loss: 0.3585 - val_acc: 0.9081\n",
      "Epoch 16/20\n",
      "375/375 [==============================] - 61s 162ms/step - loss: 0.0854 - acc: 0.9689 - val_loss: 0.3826 - val_acc: 0.9056\n",
      "Epoch 17/20\n",
      "375/375 [==============================] - 54s 144ms/step - loss: 0.0798 - acc: 0.9718 - val_loss: 0.4187 - val_acc: 0.9052\n",
      "Epoch 18/20\n",
      "375/375 [==============================] - 53s 142ms/step - loss: 0.0744 - acc: 0.9738 - val_loss: 0.4106 - val_acc: 0.9048\n",
      "Epoch 19/20\n",
      "375/375 [==============================] - 55s 146ms/step - loss: 0.0722 - acc: 0.9742 - val_loss: 0.4438 - val_acc: 0.9035\n",
      "Epoch 20/20\n",
      "375/375 [==============================] - 53s 142ms/step - loss: 0.0681 - acc: 0.9753 - val_loss: 0.4375 - val_acc: 0.9008\n"
     ]
    },
    {
     "data": {
      "text/plain": [
       "<keras.callbacks.History at 0x7fc602a8cf70>"
      ]
     },
     "execution_count": 44,
     "metadata": {},
     "output_type": "execute_result"
    }
   ],
   "source": [
    "# train the model\n",
    "keras_model.fit(X_train, y_train, batch_size=256, epochs=20, validation_data=(X_test, y_test))"
   ]
  },
  {
   "cell_type": "code",
   "execution_count": 45,
   "metadata": {},
   "outputs": [
    {
     "name": "stdout",
     "output_type": "stream",
     "text": [
      "['Business News' 'Science-Technology News' 'Sports News' 'World News']\n"
     ]
    }
   ],
   "source": [
    "labels = la.classes_\n",
    "print(labels)"
   ]
  },
  {
   "cell_type": "code",
   "execution_count": 46,
   "metadata": {},
   "outputs": [],
   "source": [
    "# check prediction\n",
    "predicted = keras_model.predict(X_test)"
   ]
  },
  {
   "cell_type": "code",
   "execution_count": 53,
   "metadata": {},
   "outputs": [
    {
     "name": "stdout",
     "output_type": "stream",
     "text": [
      "oil economy cloud stocks  --\n",
      "--Original category:  Sports News\n",
      "--predicted category:  Sports News\n",
      "stocks end near year lows --\n",
      "--Original category:  Science-Technology News\n",
      "--predicted category:  Science-Technology News\n",
      "safety net forbescom forb --\n",
      "--Original category:  World News\n",
      "--predicted category:  World News\n",
      "need opec pump moreiran g --\n",
      "--Original category:  Science-Technology News\n",
      "--predicted category:  Science-Technology News\n",
      "dollar falls broadly reco --\n",
      "--Original category:  Sports News\n",
      "--predicted category:  Sports News\n",
      "market head toward value  --\n",
      "--Original category:  World News\n",
      "--predicted category:  World News\n",
      "google ipo faces playboy  --\n",
      "--Original category:  World News\n",
      "--predicted category:  World News\n",
      "rand falls shock sa rate  --\n",
      "--Original category:  Science-Technology News\n",
      "--predicted category:  Science-Technology News\n",
      "google auction begins fri --\n",
      "--Original category:  Science-Technology News\n",
      "--predicted category:  Science-Technology News\n",
      "chad seeks refugee aid im --\n",
      "--Original category:  World News\n",
      "--predicted category:  World News\n",
      "saudi arabia open oil tap --\n",
      "--Original category:  Science-Technology News\n",
      "--predicted category:  Science-Technology News\n",
      "steady go bedford scienti --\n",
      "--Original category:  Sports News\n",
      "--predicted category:  Sports News\n",
      "researchers seek untangle --\n",
      "--Original category:  Business News\n",
      "--predicted category:  Business News\n",
      "somewhere gleam gloom pre --\n",
      "--Original category:  Business News\n",
      "--predicted category:  Business News\n",
      "state grant aid lynn bank --\n",
      "--Original category:  Science-Technology News\n",
      "--predicted category:  Science-Technology News\n",
      "switching titles gears de --\n",
      "--Original category:  Sports News\n",
      "--predicted category:  Sports News\n",
      "making insurer pay hurric --\n",
      "--Original category:  World News\n",
      "--predicted category:  World News\n",
      "whats cool pool hot deck  --\n",
      "--Original category:  Science-Technology News\n",
      "--predicted category:  Science-Technology News\n",
      "stoking steamroller recor --\n",
      "--Original category:  Sports News\n",
      "--predicted category:  Sports News\n",
      "barrel monkeys edition no --\n",
      "--Original category:  World News\n",
      "--predicted category:  World News\n",
      "downhome pinoy blues inte --\n",
      "--Original category:  Business News\n",
      "--predicted category:  Business News\n",
      "best cities business asia --\n",
      "--Original category:  Business News\n",
      "--predicted category:  Business News\n",
      "bea grabs ca exec head pr --\n",
      "--Original category:  World News\n",
      "--predicted category:  World News\n",
      "play boys google ipo go a --\n",
      "--Original category:  Business News\n",
      "--predicted category:  Business News\n",
      "hp buy synstar hewlettpac --\n",
      "--Original category:  Science-Technology News\n",
      "--predicted category:  Science-Technology News\n",
      "fark sells france surrend --\n",
      "--Original category:  Science-Technology News\n",
      "--predicted category:  Science-Technology News\n",
      "aol sell cheap pcs minori --\n",
      "--Original category:  Science-Technology News\n",
      "--predicted category:  Science-Technology News\n",
      "hacker cracks apples stre --\n",
      "--Original category:  Business News\n",
      "--predicted category:  World News\n",
      "oracle sales data seen re --\n",
      "--Original category:  Science-Technology News\n",
      "--predicted category:  Science-Technology News\n",
      "charleys force took exper --\n",
      "--Original category:  Science-Technology News\n",
      "--predicted category:  Science-Technology News\n",
      "russian cargo craft docks --\n",
      "--Original category:  Science-Technology News\n",
      "--predicted category:  Science-Technology News\n",
      "gene blocker turns monkey --\n",
      "--Original category:  Science-Technology News\n",
      "--predicted category:  Science-Technology News\n",
      "uk scientists allowed clo --\n",
      "--Original category:  World News\n",
      "--predicted category:  World News\n"
     ]
    }
   ],
   "source": [
    "for i in range(2,100,3):\n",
    "    print(df_train['summary'].iloc[i][:25], \"--\")\n",
    "    print(\"--Original category: \", labels[np.argmax(y_test[i])])\n",
    "    print(\"--predicted category: \", labels[np.argmax(predicted[i])])"
   ]
  },
  {
   "cell_type": "code",
   "execution_count": null,
   "metadata": {},
   "outputs": [],
   "source": []
  }
 ],
 "metadata": {
  "kernelspec": {
   "display_name": "Python 3",
   "language": "python",
   "name": "python3"
  },
  "language_info": {
   "codemirror_mode": {
    "name": "ipython",
    "version": 3
   },
   "file_extension": ".py",
   "mimetype": "text/x-python",
   "name": "python",
   "nbconvert_exporter": "python",
   "pygments_lexer": "ipython3",
   "version": "3.8.10"
  }
 },
 "nbformat": 4,
 "nbformat_minor": 4
}
