{
 "cells": [
  {
   "cell_type": "markdown",
   "metadata": {},
   "source": [
    "## AG NEWs classification\n",
    "This classification problem aims at classifyign news articles- titles and decription, into 4 categories namely:\n",
    "- 1 - World\n",
    "- 2- Sports\n",
    "- 3- Business\n",
    "- 4 - Sci/Tech\n",
    "---\n",
    "classification will use bidirectional LTSM."
   ]
  },
  {
   "cell_type": "code",
   "execution_count": 1,
   "metadata": {},
   "outputs": [
    {
     "name": "stderr",
     "output_type": "stream",
     "text": [
      "2021-12-23 03:36:10.150806: W tensorflow/stream_executor/platform/default/dso_loader.cc:64] Could not load dynamic library 'libcudart.so.11.0'; dlerror: libcudart.so.11.0: cannot open shared object file: No such file or directory\n",
      "2021-12-23 03:36:10.150842: I tensorflow/stream_executor/cuda/cudart_stub.cc:29] Ignore above cudart dlerror if you do not have a GPU set up on your machine.\n"
     ]
    }
   ],
   "source": [
    "# Importing libraries\n",
    "\n",
    "import pandas as pd\n",
    "import numpy as np\n",
    "import tensorflow as tf\n",
    "import re\n",
    "import string\n",
    "\n",
    "from nltk.corpus import stopwords\n",
    "from nltk.tokenize import word_tokenize\n",
    "import matplotlib.pyplot as plt\n",
    "from gensim.models import Word2Vec\n",
    "from tensorflow.keras.models import Sequential\n",
    "from tensorflow.keras.utils import to_categorical\n",
    "from keras.preprocessing.sequence import pad_sequences\n",
    "from keras.preprocessing.text import Tokenizer\n",
    "from sklearn import preprocessing\n",
    "from sklearn.model_selection import train_test_split\n",
    "from tensorflow.keras.layers import Conv1D, MaxPool1D, Dropout, Dense, GlobalMaxPool1D, Embedding, Activation"
   ]
  },
  {
   "cell_type": "code",
   "execution_count": 2,
   "metadata": {
    "scrolled": true
   },
   "outputs": [],
   "source": [
    "# Loading the data\n",
    "col_names=[\"class\", \"Title\", \"Description\"]\n",
    "\n",
    "df_train = pd.read_csv('data/train.csv', names=col_names)\n",
    "df_test = pd.read_csv('data/test.csv', names=col_names)"
   ]
  },
  {
   "cell_type": "code",
   "execution_count": 3,
   "metadata": {},
   "outputs": [
    {
     "data": {
      "text/html": [
       "<div>\n",
       "<style scoped>\n",
       "    .dataframe tbody tr th:only-of-type {\n",
       "        vertical-align: middle;\n",
       "    }\n",
       "\n",
       "    .dataframe tbody tr th {\n",
       "        vertical-align: top;\n",
       "    }\n",
       "\n",
       "    .dataframe thead th {\n",
       "        text-align: right;\n",
       "    }\n",
       "</style>\n",
       "<table border=\"1\" class=\"dataframe\">\n",
       "  <thead>\n",
       "    <tr style=\"text-align: right;\">\n",
       "      <th></th>\n",
       "      <th>class</th>\n",
       "      <th>Title</th>\n",
       "      <th>Description</th>\n",
       "    </tr>\n",
       "  </thead>\n",
       "  <tbody>\n",
       "    <tr>\n",
       "      <th>0</th>\n",
       "      <td>3</td>\n",
       "      <td>Wall St. Bears Claw Back Into the Black (Reuters)</td>\n",
       "      <td>Reuters - Short-sellers, Wall Street's dwindli...</td>\n",
       "    </tr>\n",
       "    <tr>\n",
       "      <th>1</th>\n",
       "      <td>3</td>\n",
       "      <td>Carlyle Looks Toward Commercial Aerospace (Reu...</td>\n",
       "      <td>Reuters - Private investment firm Carlyle Grou...</td>\n",
       "    </tr>\n",
       "    <tr>\n",
       "      <th>2</th>\n",
       "      <td>3</td>\n",
       "      <td>Oil and Economy Cloud Stocks' Outlook (Reuters)</td>\n",
       "      <td>Reuters - Soaring crude prices plus worries\\ab...</td>\n",
       "    </tr>\n",
       "    <tr>\n",
       "      <th>3</th>\n",
       "      <td>3</td>\n",
       "      <td>Iraq Halts Oil Exports from Main Southern Pipe...</td>\n",
       "      <td>Reuters - Authorities have halted oil export\\f...</td>\n",
       "    </tr>\n",
       "    <tr>\n",
       "      <th>4</th>\n",
       "      <td>3</td>\n",
       "      <td>Oil prices soar to all-time record, posing new...</td>\n",
       "      <td>AFP - Tearaway world oil prices, toppling reco...</td>\n",
       "    </tr>\n",
       "  </tbody>\n",
       "</table>\n",
       "</div>"
      ],
      "text/plain": [
       "   class                                              Title  \\\n",
       "0      3  Wall St. Bears Claw Back Into the Black (Reuters)   \n",
       "1      3  Carlyle Looks Toward Commercial Aerospace (Reu...   \n",
       "2      3    Oil and Economy Cloud Stocks' Outlook (Reuters)   \n",
       "3      3  Iraq Halts Oil Exports from Main Southern Pipe...   \n",
       "4      3  Oil prices soar to all-time record, posing new...   \n",
       "\n",
       "                                         Description  \n",
       "0  Reuters - Short-sellers, Wall Street's dwindli...  \n",
       "1  Reuters - Private investment firm Carlyle Grou...  \n",
       "2  Reuters - Soaring crude prices plus worries\\ab...  \n",
       "3  Reuters - Authorities have halted oil export\\f...  \n",
       "4  AFP - Tearaway world oil prices, toppling reco...  "
      ]
     },
     "execution_count": 3,
     "metadata": {},
     "output_type": "execute_result"
    }
   ],
   "source": [
    "df_train.head()"
   ]
  },
  {
   "cell_type": "code",
   "execution_count": 4,
   "metadata": {},
   "outputs": [
    {
     "data": {
      "text/html": [
       "<div>\n",
       "<style scoped>\n",
       "    .dataframe tbody tr th:only-of-type {\n",
       "        vertical-align: middle;\n",
       "    }\n",
       "\n",
       "    .dataframe tbody tr th {\n",
       "        vertical-align: top;\n",
       "    }\n",
       "\n",
       "    .dataframe thead th {\n",
       "        text-align: right;\n",
       "    }\n",
       "</style>\n",
       "<table border=\"1\" class=\"dataframe\">\n",
       "  <thead>\n",
       "    <tr style=\"text-align: right;\">\n",
       "      <th></th>\n",
       "      <th>class</th>\n",
       "      <th>Title</th>\n",
       "      <th>Description</th>\n",
       "    </tr>\n",
       "  </thead>\n",
       "  <tbody>\n",
       "    <tr>\n",
       "      <th>0</th>\n",
       "      <td>3</td>\n",
       "      <td>Fears for T N pension after talks</td>\n",
       "      <td>Unions representing workers at Turner   Newall...</td>\n",
       "    </tr>\n",
       "    <tr>\n",
       "      <th>1</th>\n",
       "      <td>4</td>\n",
       "      <td>The Race is On: Second Private Team Sets Launc...</td>\n",
       "      <td>SPACE.com - TORONTO, Canada -- A second\\team o...</td>\n",
       "    </tr>\n",
       "    <tr>\n",
       "      <th>2</th>\n",
       "      <td>4</td>\n",
       "      <td>Ky. Company Wins Grant to Study Peptides (AP)</td>\n",
       "      <td>AP - A company founded by a chemistry research...</td>\n",
       "    </tr>\n",
       "    <tr>\n",
       "      <th>3</th>\n",
       "      <td>4</td>\n",
       "      <td>Prediction Unit Helps Forecast Wildfires (AP)</td>\n",
       "      <td>AP - It's barely dawn when Mike Fitzpatrick st...</td>\n",
       "    </tr>\n",
       "    <tr>\n",
       "      <th>4</th>\n",
       "      <td>4</td>\n",
       "      <td>Calif. Aims to Limit Farm-Related Smog (AP)</td>\n",
       "      <td>AP - Southern California's smog-fighting agenc...</td>\n",
       "    </tr>\n",
       "  </tbody>\n",
       "</table>\n",
       "</div>"
      ],
      "text/plain": [
       "   class                                              Title  \\\n",
       "0      3                  Fears for T N pension after talks   \n",
       "1      4  The Race is On: Second Private Team Sets Launc...   \n",
       "2      4      Ky. Company Wins Grant to Study Peptides (AP)   \n",
       "3      4      Prediction Unit Helps Forecast Wildfires (AP)   \n",
       "4      4        Calif. Aims to Limit Farm-Related Smog (AP)   \n",
       "\n",
       "                                         Description  \n",
       "0  Unions representing workers at Turner   Newall...  \n",
       "1  SPACE.com - TORONTO, Canada -- A second\\team o...  \n",
       "2  AP - A company founded by a chemistry research...  \n",
       "3  AP - It's barely dawn when Mike Fitzpatrick st...  \n",
       "4  AP - Southern California's smog-fighting agenc...  "
      ]
     },
     "execution_count": 4,
     "metadata": {},
     "output_type": "execute_result"
    }
   ],
   "source": [
    "df_test.head()"
   ]
  },
  {
   "cell_type": "code",
   "execution_count": 5,
   "metadata": {},
   "outputs": [],
   "source": [
    "df_train['summary'] = df_train['Title'] + ' ' + df_train['Description']\n",
    "df_test['summary'] = df_test['Title'] + ' ' + df_test['Description']\n",
    "\n",
    "df_train = df_train.drop(columns=['Title', 'Description'])\n",
    "df_test = df_test.drop(columns=['Title', 'Description'])\n",
    "\n",
    "labels = {1:'World News', 2:'Sports News', 3:'Business News', 4:'Science-Technology News'}\n",
    "\n",
    "df_train['label'] = df_train['class'].map(labels)\n",
    "df_test['label'] = df_test['class'].map(labels)"
   ]
  },
  {
   "cell_type": "code",
   "execution_count": 6,
   "metadata": {},
   "outputs": [
    {
     "data": {
      "text/html": [
       "<div>\n",
       "<style scoped>\n",
       "    .dataframe tbody tr th:only-of-type {\n",
       "        vertical-align: middle;\n",
       "    }\n",
       "\n",
       "    .dataframe tbody tr th {\n",
       "        vertical-align: top;\n",
       "    }\n",
       "\n",
       "    .dataframe thead th {\n",
       "        text-align: right;\n",
       "    }\n",
       "</style>\n",
       "<table border=\"1\" class=\"dataframe\">\n",
       "  <thead>\n",
       "    <tr style=\"text-align: right;\">\n",
       "      <th></th>\n",
       "      <th>summary</th>\n",
       "      <th>label</th>\n",
       "    </tr>\n",
       "  </thead>\n",
       "  <tbody>\n",
       "    <tr>\n",
       "      <th>0</th>\n",
       "      <td>Wall St. Bears Claw Back Into the Black (Reute...</td>\n",
       "      <td>Business News</td>\n",
       "    </tr>\n",
       "    <tr>\n",
       "      <th>1</th>\n",
       "      <td>Carlyle Looks Toward Commercial Aerospace (Reu...</td>\n",
       "      <td>Business News</td>\n",
       "    </tr>\n",
       "    <tr>\n",
       "      <th>2</th>\n",
       "      <td>Oil and Economy Cloud Stocks' Outlook (Reuters...</td>\n",
       "      <td>Business News</td>\n",
       "    </tr>\n",
       "    <tr>\n",
       "      <th>3</th>\n",
       "      <td>Iraq Halts Oil Exports from Main Southern Pipe...</td>\n",
       "      <td>Business News</td>\n",
       "    </tr>\n",
       "    <tr>\n",
       "      <th>4</th>\n",
       "      <td>Oil prices soar to all-time record, posing new...</td>\n",
       "      <td>Business News</td>\n",
       "    </tr>\n",
       "  </tbody>\n",
       "</table>\n",
       "</div>"
      ],
      "text/plain": [
       "                                             summary          label\n",
       "0  Wall St. Bears Claw Back Into the Black (Reute...  Business News\n",
       "1  Carlyle Looks Toward Commercial Aerospace (Reu...  Business News\n",
       "2  Oil and Economy Cloud Stocks' Outlook (Reuters...  Business News\n",
       "3  Iraq Halts Oil Exports from Main Southern Pipe...  Business News\n",
       "4  Oil prices soar to all-time record, posing new...  Business News"
      ]
     },
     "execution_count": 6,
     "metadata": {},
     "output_type": "execute_result"
    }
   ],
   "source": [
    "df_train = df_train.drop(columns=['class'])\n",
    "df_test = df_test.drop(columns=['class'])\n",
    "df_train.head()"
   ]
  },
  {
   "cell_type": "code",
   "execution_count": 7,
   "metadata": {},
   "outputs": [],
   "source": [
    "# remove punctuation\n",
    "\n",
    "def remove_punc(text):\n",
    "    text = re.sub('\\[.*?\\]', '', text)\n",
    "    text = re.sub('https?://\\S+|www\\.\\S+', '', text)\n",
    "    text = re.sub('<.*?>+', '', text)\n",
    "    text = re.sub('[%s]' % re.escape(string.punctuation), '', text)\n",
    "    text = re.sub('\\n', '', text)\n",
    "    text = re.sub('\\w*\\d\\w*', '', text)\n",
    "    return text\n",
    "\n",
    "df_train['summary'] = df_train['summary'].apply(lambda x: remove_punc(x))\n",
    "df_test['summary'] = df_test['summary'].apply(lambda x: remove_punc(x))"
   ]
  },
  {
   "cell_type": "code",
   "execution_count": 27,
   "metadata": {},
   "outputs": [
    {
     "data": {
      "text/html": [
       "<div>\n",
       "<style scoped>\n",
       "    .dataframe tbody tr th:only-of-type {\n",
       "        vertical-align: middle;\n",
       "    }\n",
       "\n",
       "    .dataframe tbody tr th {\n",
       "        vertical-align: top;\n",
       "    }\n",
       "\n",
       "    .dataframe thead th {\n",
       "        text-align: right;\n",
       "    }\n",
       "</style>\n",
       "<table border=\"1\" class=\"dataframe\">\n",
       "  <thead>\n",
       "    <tr style=\"text-align: right;\">\n",
       "      <th></th>\n",
       "      <th>summary</th>\n",
       "      <th>label</th>\n",
       "    </tr>\n",
       "  </thead>\n",
       "  <tbody>\n",
       "    <tr>\n",
       "      <th>0</th>\n",
       "      <td>wall st bears claw back black reuters reuters ...</td>\n",
       "      <td>Business News</td>\n",
       "    </tr>\n",
       "    <tr>\n",
       "      <th>1</th>\n",
       "      <td>carlyle looks toward commercial aerospace reut...</td>\n",
       "      <td>Business News</td>\n",
       "    </tr>\n",
       "    <tr>\n",
       "      <th>2</th>\n",
       "      <td>oil economy cloud stocks outlook reuters reute...</td>\n",
       "      <td>Business News</td>\n",
       "    </tr>\n",
       "    <tr>\n",
       "      <th>3</th>\n",
       "      <td>iraq halts oil exports main southern pipeline ...</td>\n",
       "      <td>Business News</td>\n",
       "    </tr>\n",
       "    <tr>\n",
       "      <th>4</th>\n",
       "      <td>oil prices soar alltime record posing new mena...</td>\n",
       "      <td>Business News</td>\n",
       "    </tr>\n",
       "    <tr>\n",
       "      <th>5</th>\n",
       "      <td>stocks end near year lows reuters reuters stoc...</td>\n",
       "      <td>Business News</td>\n",
       "    </tr>\n",
       "    <tr>\n",
       "      <th>6</th>\n",
       "      <td>money funds fell latest week ap ap assets nati...</td>\n",
       "      <td>Business News</td>\n",
       "    </tr>\n",
       "    <tr>\n",
       "      <th>7</th>\n",
       "      <td>fed minutes show dissent inflation usatodaycom...</td>\n",
       "      <td>Business News</td>\n",
       "    </tr>\n",
       "    <tr>\n",
       "      <th>8</th>\n",
       "      <td>safety net forbescom forbescom earning phd soc...</td>\n",
       "      <td>Business News</td>\n",
       "    </tr>\n",
       "    <tr>\n",
       "      <th>9</th>\n",
       "      <td>wall st bears claw back black new york reuters...</td>\n",
       "      <td>Business News</td>\n",
       "    </tr>\n",
       "  </tbody>\n",
       "</table>\n",
       "</div>"
      ],
      "text/plain": [
       "                                             summary          label\n",
       "0  wall st bears claw back black reuters reuters ...  Business News\n",
       "1  carlyle looks toward commercial aerospace reut...  Business News\n",
       "2  oil economy cloud stocks outlook reuters reute...  Business News\n",
       "3  iraq halts oil exports main southern pipeline ...  Business News\n",
       "4  oil prices soar alltime record posing new mena...  Business News\n",
       "5  stocks end near year lows reuters reuters stoc...  Business News\n",
       "6  money funds fell latest week ap ap assets nati...  Business News\n",
       "7  fed minutes show dissent inflation usatodaycom...  Business News\n",
       "8  safety net forbescom forbescom earning phd soc...  Business News\n",
       "9  wall st bears claw back black new york reuters...  Business News"
      ]
     },
     "execution_count": 27,
     "metadata": {},
     "output_type": "execute_result"
    }
   ],
   "source": [
    "df_train.head(10)"
   ]
  },
  {
   "cell_type": "code",
   "execution_count": 9,
   "metadata": {},
   "outputs": [],
   "source": [
    "# data cleaning and remove stopwords\n",
    "\n",
    "def data_cleaner(text):        \n",
    "    lower_case = text.lower()\n",
    "    tokens=word_tokenize(lower_case)\n",
    "    return (\" \".join(tokens)).strip()\n",
    "\n",
    "def remove_stopwords (text):        \n",
    "    list1=[word for word in text.split() if word not in stopwords.words('english')]\n",
    "    return \" \".join(list1)\n",
    "\n",
    "df_train['summary'] = df_train['summary'].apply(lambda x: data_cleaner(x))\n",
    "df_test['summary'] = df_test['summary'].apply(lambda x: data_cleaner(x))\n",
    "\n",
    "df_train['summary'] = df_train['summary'].apply(lambda x: remove_stopwords(x))\n",
    "df_test['summary'] = df_test['summary'].apply(lambda x: remove_stopwords(x))"
   ]
  },
  {
   "cell_type": "code",
   "execution_count": 10,
   "metadata": {},
   "outputs": [],
   "source": [
    "# split the data into train and test data\n",
    "\n",
    "X_train, X_validation, y_train, y_validation = train_test_split(df_train['summary'], df_train['label'],\n",
    "                                                                test_size=0.2, random_state=1)"
   ]
  },
  {
   "cell_type": "code",
   "execution_count": 11,
   "metadata": {},
   "outputs": [
    {
     "name": "stdout",
     "output_type": "stream",
     "text": [
      "[['wall', 'st', 'bears', 'claw', 'back', 'black', 'reuters', 'reuters', 'shortsellers', 'wall', 'streets', 'dwindlingband', 'ultracynics', 'seeing', 'green'], ['carlyle', 'looks', 'toward', 'commercial', 'aerospace', 'reuters', 'reuters', 'private', 'investment', 'firm', 'carlyle', 'groupwhich', 'reputation', 'making', 'welltimed', 'occasionallycontroversial', 'plays', 'defense', 'industry', 'quietly', 'placedits', 'bets', 'another', 'part', 'market']]\n"
     ]
    }
   ],
   "source": [
    "t_d = []\n",
    "for i in df_train['summary']:\n",
    "    t_d.append(i.split())\n",
    "print(t_d[:2])"
   ]
  },
  {
   "cell_type": "code",
   "execution_count": 13,
   "metadata": {},
   "outputs": [
    {
     "name": "stdout",
     "output_type": "stream",
     "text": [
      "Word2Vec(vocab=89749, size=50, alpha=0.025)\n"
     ]
    }
   ],
   "source": [
    "# initiate word2vec model\n",
    "\n",
    "w2v_model = Word2Vec(t_d, size=50, workers=32, min_count=1, window=3)\n",
    "print(w2v_model)"
   ]
  },
  {
   "cell_type": "code",
   "execution_count": 14,
   "metadata": {},
   "outputs": [],
   "source": [
    "# tokenize the data\n",
    "\n",
    "token = Tokenizer(89740)\n",
    "token.fit_on_texts(df_train['summary'])\n",
    "token_text = token.texts_to_sequences(df_train['summary'])\n",
    "token_text = pad_sequences(token_text)"
   ]
  },
  {
   "cell_type": "code",
   "execution_count": 15,
   "metadata": {},
   "outputs": [
    {
     "name": "stdout",
     "output_type": "stream",
     "text": [
      "[[1. 0. 0. 0.]\n",
      " [1. 0. 0. 0.]\n",
      " [1. 0. 0. 0.]\n",
      " [1. 0. 0. 0.]\n",
      " [1. 0. 0. 0.]]\n"
     ]
    }
   ],
   "source": [
    "la = preprocessing.LabelEncoder()\n",
    "y = la.fit_transform(df_train['label'])\n",
    "y = to_categorical(y)\n",
    "print(y[:5])"
   ]
  },
  {
   "cell_type": "code",
   "execution_count": 16,
   "metadata": {},
   "outputs": [],
   "source": [
    "# spilt the data into training and testing data\n",
    "\n",
    "X_train, X_test, y_train, y_test = train_test_split(np.array(token_text), y, test_size=0.2)\n"
   ]
  },
  {
   "cell_type": "code",
   "execution_count": 17,
   "metadata": {},
   "outputs": [
    {
     "name": "stdout",
     "output_type": "stream",
     "text": [
      "Model: \"sequential\"\n",
      "_________________________________________________________________\n",
      " Layer (type)                Output Shape              Param #   \n",
      "=================================================================\n",
      " embedding (Embedding)       (None, None, 50)          4487450   \n",
      "                                                                 \n",
      " dropout (Dropout)           (None, None, 50)          0         \n",
      "                                                                 \n",
      " conv1d (Conv1D)             (None, None, 50)          7550      \n",
      "                                                                 \n",
      " max_pooling1d (MaxPooling1D  (None, None, 50)         0         \n",
      " )                                                               \n",
      "                                                                 \n",
      " dropout_1 (Dropout)         (None, None, 50)          0         \n",
      "                                                                 \n",
      " conv1d_1 (Conv1D)           (None, None, 100)         15100     \n",
      "                                                                 \n",
      " max_pooling1d_1 (MaxPooling  (None, None, 100)        0         \n",
      " 1D)                                                             \n",
      "                                                                 \n",
      " dropout_2 (Dropout)         (None, None, 100)         0         \n",
      "                                                                 \n",
      " conv1d_2 (Conv1D)           (None, None, 200)         60200     \n",
      "                                                                 \n",
      " global_max_pooling1d (Globa  (None, 200)              0         \n",
      " lMaxPooling1D)                                                  \n",
      "                                                                 \n",
      " dropout_3 (Dropout)         (None, 200)               0         \n",
      "                                                                 \n",
      " dense (Dense)               (None, 200)               40200     \n",
      "                                                                 \n",
      " activation (Activation)     (None, 200)               0         \n",
      "                                                                 \n",
      " dropout_4 (Dropout)         (None, 200)               0         \n",
      "                                                                 \n",
      " dense_1 (Dense)             (None, 4)                 804       \n",
      "                                                                 \n",
      " activation_1 (Activation)   (None, 4)                 0         \n",
      "                                                                 \n",
      "=================================================================\n",
      "Total params: 4,611,304\n",
      "Trainable params: 4,611,304\n",
      "Non-trainable params: 0\n",
      "_________________________________________________________________\n"
     ]
    },
    {
     "name": "stderr",
     "output_type": "stream",
     "text": [
      "2021-12-23 03:44:15.205281: W tensorflow/stream_executor/platform/default/dso_loader.cc:64] Could not load dynamic library 'libcuda.so.1'; dlerror: libcuda.so.1: cannot open shared object file: No such file or directory\n",
      "2021-12-23 03:44:15.205348: W tensorflow/stream_executor/cuda/cuda_driver.cc:269] failed call to cuInit: UNKNOWN ERROR (303)\n",
      "2021-12-23 03:44:15.205403: I tensorflow/stream_executor/cuda/cuda_diagnostics.cc:156] kernel driver does not appear to be running on this host (homer): /proc/driver/nvidia/version does not exist\n",
      "2021-12-23 03:44:15.205841: I tensorflow/core/platform/cpu_feature_guard.cc:151] This TensorFlow binary is optimized with oneAPI Deep Neural Network Library (oneDNN) to use the following CPU instructions in performance-critical operations:  AVX2 FMA\n",
      "To enable them in other operations, rebuild TensorFlow with the appropriate compiler flags.\n"
     ]
    }
   ],
   "source": [
    "# build the model\n",
    "\n",
    "keras_model = Sequential()\n",
    "keras_model.add(w2v_model.wv.get_keras_embedding(True))\n",
    "keras_model.add(Dropout(0.2))\n",
    "keras_model.add(Conv1D(50, 3, activation='relu', padding='same', strides=1))\n",
    "keras_model.add(MaxPool1D())\n",
    "keras_model.add(Dropout(0.2))\n",
    "keras_model.add(Conv1D(100, 3, activation='relu', padding='same', strides=1))\n",
    "keras_model.add(MaxPool1D())\n",
    "keras_model.add(Dropout(0.2))\n",
    "keras_model.add(Conv1D(200, 3, activation='relu', padding='same', strides=1))\n",
    "keras_model.add(GlobalMaxPool1D())\n",
    "keras_model.add(Dropout(0.2))\n",
    "keras_model.add(Dense(200))\n",
    "keras_model.add(Activation('relu'))\n",
    "keras_model.add(Dropout(0.2))\n",
    "keras_model.add(Dense(4))\n",
    "keras_model.add(Activation('softmax'))\n",
    "keras_model.compile(loss='categorical_crossentropy', metrics=['acc'], optimizer='adam')\n",
    "keras_model.summary()\n"
   ]
  },
  {
   "cell_type": "code",
   "execution_count": 18,
   "metadata": {},
   "outputs": [
    {
     "name": "stdout",
     "output_type": "stream",
     "text": [
      "Epoch 1/10\n"
     ]
    },
    {
     "name": "stderr",
     "output_type": "stream",
     "text": [
      "2021-12-23 03:44:15.403022: W tensorflow/core/framework/cpu_allocator_impl.cc:82] Allocation of 38400000 exceeds 10% of free system memory.\n"
     ]
    },
    {
     "name": "stdout",
     "output_type": "stream",
     "text": [
      "375/375 [==============================] - 51s 133ms/step - loss: 1.1342 - acc: 0.4777 - val_loss: 0.6025 - val_acc: 0.7806\n",
      "Epoch 2/10\n",
      "375/375 [==============================] - 49s 132ms/step - loss: 0.5744 - acc: 0.7887 - val_loss: 0.4144 - val_acc: 0.8663\n",
      "Epoch 3/10\n",
      "375/375 [==============================] - 49s 129ms/step - loss: 0.4127 - acc: 0.8590 - val_loss: 0.3339 - val_acc: 0.8933\n",
      "Epoch 4/10\n",
      "375/375 [==============================] - 49s 130ms/step - loss: 0.3369 - acc: 0.8872 - val_loss: 0.3088 - val_acc: 0.9002\n",
      "Epoch 5/10\n",
      "375/375 [==============================] - 48s 129ms/step - loss: 0.2900 - acc: 0.9044 - val_loss: 0.2966 - val_acc: 0.9083\n",
      "Epoch 6/10\n",
      "375/375 [==============================] - 48s 129ms/step - loss: 0.2516 - acc: 0.9182 - val_loss: 0.2666 - val_acc: 0.9131\n",
      "Epoch 7/10\n",
      "375/375 [==============================] - 51s 135ms/step - loss: 0.2193 - acc: 0.9282 - val_loss: 0.2652 - val_acc: 0.9138\n",
      "Epoch 8/10\n",
      "375/375 [==============================] - 53s 142ms/step - loss: 0.1910 - acc: 0.9383 - val_loss: 0.2681 - val_acc: 0.9156\n",
      "Epoch 9/10\n",
      "375/375 [==============================] - 55s 145ms/step - loss: 0.1687 - acc: 0.9440 - val_loss: 0.2715 - val_acc: 0.9138\n",
      "Epoch 10/10\n",
      "375/375 [==============================] - 54s 145ms/step - loss: 0.1503 - acc: 0.9508 - val_loss: 0.2851 - val_acc: 0.9129\n"
     ]
    },
    {
     "data": {
      "text/plain": [
       "<keras.callbacks.History at 0x7fc600e530a0>"
      ]
     },
     "execution_count": 18,
     "metadata": {},
     "output_type": "execute_result"
    }
   ],
   "source": [
    "# train the model\n",
    "keras_model.fit(X_train, y_train, batch_size=256, epochs=20, validation_data=(X_test, y_test))"
   ]
  },
  {
   "cell_type": "code",
   "execution_count": 19,
   "metadata": {},
   "outputs": [
    {
     "name": "stdout",
     "output_type": "stream",
     "text": [
      "['Business News' 'Science-Technology News' 'Sports News' 'World News']\n"
     ]
    }
   ],
   "source": [
    "labels = la.classes_\n",
    "print(labels)"
   ]
  },
  {
   "cell_type": "code",
   "execution_count": 20,
   "metadata": {},
   "outputs": [],
   "source": [
    "# check prediction\n",
    "predicted = keras_model.predict(X_test)"
   ]
  },
  {
   "cell_type": "code",
   "execution_count": 22,
   "metadata": {},
   "outputs": [
    {
     "name": "stdout",
     "output_type": "stream",
     "text": [
      "oil economy cloud stocks outlook reuters reuters s ...\n",
      "Actual category:  Business News\n",
      "predicted category:  Business News\n",
      "stocks end near year lows reuters reuters stocks e ...\n",
      "Actual category:  Science-Technology News\n",
      "predicted category:  Science-Technology News\n",
      "safety net forbescom forbescom earning phd sociolo ...\n",
      "Actual category:  Business News\n",
      "predicted category:  Business News\n",
      "need opec pump moreiran gov tehran reuters opec no ...\n",
      "Actual category:  Science-Technology News\n",
      "predicted category:  Science-Technology News\n",
      "dollar falls broadly record trade gap new york reu ...\n",
      "Actual category:  World News\n",
      "predicted category:  World News\n",
      "market head toward value funds little cause celebr ...\n",
      "Actual category:  Business News\n",
      "predicted category:  Business News\n",
      "google ipo faces playboy slipup bidding gets under ...\n",
      "Actual category:  World News\n",
      "predicted category:  World News\n",
      "rand falls shock sa rate cut interest rates trimme ...\n",
      "Actual category:  Sports News\n",
      "predicted category:  Sports News\n",
      "google auction begins friday auction shares google ...\n",
      "Actual category:  Sports News\n",
      "predicted category:  Sports News\n",
      "chad seeks refugee aid imf chad asks imf loan pay  ...\n",
      "Actual category:  World News\n",
      "predicted category:  World News\n",
      "saudi arabia open oil taps saudi arabia says ready ...\n",
      "Actual category:  Science-Technology News\n",
      "predicted category:  Science-Technology News\n",
      "steady go bedford scientists nitromed inc hope exp ...\n",
      "Actual category:  Business News\n",
      "predicted category:  Business News\n",
      "researchers seek untangle email thread email victi ...\n",
      "Actual category:  Sports News\n",
      "predicted category:  Sports News\n",
      "somewhere gleam gloom president bush saying us eco ...\n",
      "Actual category:  World News\n",
      "predicted category:  World News\n",
      "state grant aid lynn bank gives salem central squa ...\n",
      "Actual category:  Business News\n",
      "predicted category:  Business News\n",
      "switching titles gears dell kevin b rollins new ch ...\n",
      "Actual category:  Sports News\n",
      "predicted category:  Sports News\n",
      "making insurer pay hurricane charley blows house m ...\n",
      "Actual category:  World News\n",
      "predicted category:  World News\n",
      "whats cool pool hot deck americans spending tricki ...\n",
      "Actual category:  Business News\n",
      "predicted category:  Business News\n",
      "stoking steamroller recording artist channel ameri ...\n",
      "Actual category:  World News\n",
      "predicted category:  World News\n",
      "barrel monkeys edition notes philippine elections  ...\n",
      "Actual category:  Business News\n",
      "predicted category:  Business News\n",
      "downhome pinoy blues intersecting life paths heart ...\n",
      "Actual category:  Sports News\n",
      "predicted category:  Sports News\n",
      "best cities business asia one new categories apmf  ...\n",
      "Actual category:  World News\n",
      "predicted category:  World News\n",
      "bea grabs ca exec head product group bea systems i ...\n",
      "Actual category:  Business News\n",
      "predicted category:  World News\n",
      "play boys google ipo go anyway even though googles ...\n",
      "Actual category:  World News\n",
      "predicted category:  World News\n",
      "hp buy synstar hewlettpackard pay million british  ...\n",
      "Actual category:  Business News\n",
      "predicted category:  Business News\n",
      "fark sells france surrenders blogs hottest thing n ...\n",
      "Actual category:  Business News\n",
      "predicted category:  Business News\n",
      "aol sell cheap pcs minorities seniors reuters reut ...\n",
      "Actual category:  Sports News\n",
      "predicted category:  Sports News\n",
      "hacker cracks apples streaming technology ap ap no ...\n",
      "Actual category:  World News\n",
      "predicted category:  World News\n",
      "oracle sales data seen released reuters reuters or ...\n",
      "Actual category:  Business News\n",
      "predicted category:  Business News\n",
      "charleys force took experts surprise ap ap hurrica ...\n",
      "Actual category:  World News\n",
      "predicted category:  World News\n",
      "russian cargo craft docks space station ap ap russ ...\n",
      "Actual category:  Business News\n",
      "predicted category:  Business News\n",
      "gene blocker turns monkeys workaholics study reute ...\n",
      "Actual category:  Business News\n",
      "predicted category:  Business News\n",
      "uk scientists allowed clone human embryos reuters  ...\n",
      "Actual category:  World News\n",
      "predicted category:  World News\n"
     ]
    }
   ],
   "source": [
    "for i in range(2,100,3):\n",
    "    print(df_train['summary'].iloc[i][:50], \"...\")\n",
    "    print(\"Original category: \", labels[np.argmax(y_test[i])])\n",
    "    print(\"predicted category: \", labels[np.argmax(predicted[i])])"
   ]
  },
  {
   "cell_type": "code",
   "execution_count": null,
   "metadata": {},
   "outputs": [],
   "source": []
  }
 ],
 "metadata": {
  "kernelspec": {
   "display_name": "Python 3",
   "language": "python",
   "name": "python3"
  },
  "language_info": {
   "codemirror_mode": {
    "name": "ipython",
    "version": 3
   },
   "file_extension": ".py",
   "mimetype": "text/x-python",
   "name": "python",
   "nbconvert_exporter": "python",
   "pygments_lexer": "ipython3",
   "version": "3.8.10"
  }
 },
 "nbformat": 4,
 "nbformat_minor": 4
}
